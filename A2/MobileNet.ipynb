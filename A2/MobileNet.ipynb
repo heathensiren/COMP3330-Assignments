{
 "cells": [
  {
   "cell_type": "code",
   "execution_count": 1,
   "metadata": {},
   "outputs": [],
   "source": [
    "import numpy as np # linear algebra\n",
    "import pandas as pd # data processing, CSV file I/O (e.g. pd.read_csv)\n",
    "import os\n",
    "from glob import glob"
   ]
  },
  {
   "cell_type": "code",
   "execution_count": 2,
   "metadata": {},
   "outputs": [],
   "source": [
    "#Tensorflow\n",
    "import tensorflow as tf\n",
    "from tensorflow import keras\n",
    "\n",
    "# Sampler\n",
    "from imblearn.over_sampling import RandomOverSampler \n",
    "from imblearn.under_sampling import RandomUnderSampler\n",
    "from imblearn.over_sampling import SMOTE\n",
    "\n",
    "# Keras\n",
    "from keras.callbacks import ReduceLROnPlateau\n",
    "from keras.preprocessing.image import ImageDataGenerator\n",
    "from keras.utils.np_utils import to_categorical\n",
    "from keras.models import Model\n",
    "from keras.applications.mobilenet import MobileNet\n",
    "\n",
    "# To resize images\n",
    "from skimage.transform import rescale, resize\n",
    "import skimage.io\n",
    "from PIL import Image\n",
    "\n",
    "# Training and testing with train_test_split\n",
    "from sklearn.model_selection import train_test_split\n",
    "\n",
    "# Validation model\n",
    "from sklearn.metrics import confusion_matrix , classification_report\n",
    "\n",
    "# Visualization\n",
    "import matplotlib.pyplot as plt \n",
    "import seaborn as sns"
   ]
  },
  {
   "cell_type": "code",
   "execution_count": 3,
   "metadata": {},
   "outputs": [],
   "source": [
    "import warnings \n",
    "warnings.simplefilter(action=\"ignore\", category=FutureWarning)\n",
    "warnings.simplefilter(action=\"ignore\", category=UserWarning)\n",
    "warnings.simplefilter(action=\"ignore\", category=RuntimeWarning)\n",
    "warnings.simplefilter(action='ignore', category=DeprecationWarning)"
   ]
  },
  {
   "cell_type": "code",
   "execution_count": 4,
   "metadata": {},
   "outputs": [],
   "source": [
    "#Joining the two image zip files together into one dictionary \n",
    "base_skin_dir = os.path.join('datasets')\n",
    "imageid_path_dict = {os.path.splitext(os.path.basename(x))[0]: x\n",
    "                     for x in glob(os.path.join(base_skin_dir, '*', '*.jpg'))}\n",
    "\n",
    "#Lesion Dictionary \n",
    "lesion_type_dict = {\n",
    "    'nv': 'Melanocytic nevi',\n",
    "    'mel': 'Melanoma',\n",
    "    'bkl': 'Benign keratosis-like lesions ',\n",
    "    'bcc': 'Basal cell carcinoma',\n",
    "    'akiec': 'Actinic keratoses',\n",
    "    'vasc': 'Vascular lesions',\n",
    "    'df': 'Dermatofibroma'\n",
    "}\n",
    "\n",
    "#Reading the data\n",
    "skin_df = pd.read_csv(os.path.join(base_skin_dir, 'HAM10000_metadata.csv'))\n",
    "skin_df['path'] = skin_df['image_id'].map(imageid_path_dict.get)\n",
    "skin_df['cell_type'] = skin_df['dx'].map(lesion_type_dict.get) \n",
    "skin_df['cell_type_idx'] = pd.Categorical(skin_df['cell_type']).codes"
   ]
  },
  {
   "cell_type": "code",
   "execution_count": 5,
   "metadata": {},
   "outputs": [],
   "source": [
    "FilePath = \"datasets/hmnist_28_28_RGB.csv\"\n",
    "dataSet = pd.read_csv(FilePath)"
   ]
  },
  {
   "cell_type": "code",
   "execution_count": 6,
   "metadata": {},
   "outputs": [],
   "source": [
    "Label = dataSet[\"label\"]\n",
    "Data = dataSet.drop(columns=[\"label\"]) "
   ]
  },
  {
   "cell_type": "code",
   "execution_count": 7,
   "metadata": {},
   "outputs": [
    {
     "data": {
      "text/plain": [
       "4    6705\n",
       "6    1113\n",
       "2    1099\n",
       "1     514\n",
       "0     327\n",
       "5     142\n",
       "3     115\n",
       "Name: label, dtype: int64"
      ]
     },
     "execution_count": 7,
     "metadata": {},
     "output_type": "execute_result"
    }
   ],
   "source": [
    "Label.value_counts()"
   ]
  },
  {
   "cell_type": "code",
   "execution_count": 8,
   "metadata": {},
   "outputs": [
    {
     "data": {
      "text/plain": [
       "lesion_id            0\n",
       "image_id             0\n",
       "dx                   0\n",
       "dx_type              0\n",
       "age                  0\n",
       "sex                  0\n",
       "localization         0\n",
       "path             10015\n",
       "cell_type            0\n",
       "cell_type_idx        0\n",
       "dtype: int64"
      ]
     },
     "execution_count": 8,
     "metadata": {},
     "output_type": "execute_result"
    }
   ],
   "source": [
    "#remove null\n",
    "skin_df.isnull().sum()\n",
    "skin_df['age'].fillna((skin_df['age'].mean()), inplace=True)\n",
    "skin_df.isnull().sum()"
   ]
  },
  {
   "cell_type": "code",
   "execution_count": 9,
   "metadata": {},
   "outputs": [
    {
     "data": {
      "text/plain": [
       "<AxesSubplot:xlabel='label', ylabel='count'>"
      ]
     },
     "execution_count": 9,
     "metadata": {},
     "output_type": "execute_result"
    },
    {
     "data": {
      "image/png": "[encoded data removed]",
      "text/plain": [
       "<Figure size 432x288 with 1 Axes>"
      ]
     },
     "metadata": {
      "needs_background": "light"
     },
     "output_type": "display_data"
    }
   ],
   "source": [
    "#sns.set_style(\"darkgrid\")\n",
    "sns.countplot(Label)"
   ]
  },
  {
   "cell_type": "code",
   "execution_count": 10,
   "metadata": {},
   "outputs": [
    {
     "data": {
      "text/plain": [
       "<AxesSubplot:>"
      ]
     },
     "execution_count": 10,
     "metadata": {},
     "output_type": "execute_result"
    },
    {
     "data": {
      "image/png": "[encoded data removed]",
      "text/plain": [
       "<Figure size 720x360 with 1 Axes>"
      ]
     },
     "metadata": {
      "needs_background": "light"
     },
     "output_type": "display_data"
    }
   ],
   "source": [
    "%matplotlib inline\n",
    "import matplotlib.pyplot as plt\n",
    "\n",
    "fig, ax1 = plt.subplots(1, 1, figsize= (10, 5))\n",
    "skin_df['cell_type'].value_counts().plot(kind='bar', ax=ax1)"
   ]
  },
  {
   "cell_type": "code",
   "execution_count": 11,
   "metadata": {},
   "outputs": [
    {
     "data": {
      "text/plain": [
       "<AxesSubplot:>"
      ]
     },
     "execution_count": 11,
     "metadata": {},
     "output_type": "execute_result"
    },
    {
     "data": {
      "image/png": "[encoded data removed]",
      "text/plain": [
       "<Figure size 432x288 with 1 Axes>"
      ]
     },
     "metadata": {
      "needs_background": "light"
     },
     "output_type": "display_data"
    }
   ],
   "source": [
    "skin_df['localization'].value_counts().plot(kind='bar')"
   ]
  },
  {
   "cell_type": "code",
   "execution_count": 12,
   "metadata": {},
   "outputs": [],
   "source": [
    "Data = np.array(Data).reshape(-1,28,28,3)"
   ]
  },
  {
   "cell_type": "code",
   "execution_count": 13,
   "metadata": {},
   "outputs": [],
   "source": [
    "X_train , X_valid , y_train , y_valid = train_test_split(Data , Label , test_size = 0.2 , random_state = 42, stratify=Label)\n",
    "X_val, X_test, y_val, y_test = train_test_split(X_valid , y_valid , test_size = 0.5, random_state = 101, stratify=y_valid)"
   ]
  },
  {
   "cell_type": "code",
   "execution_count": 14,
   "metadata": {},
   "outputs": [],
   "source": [
    "y_train = to_categorical(y_train)\n",
    "y_test = to_categorical(y_test)\n",
    "y_val =  to_categorical(y_val)"
   ]
  },
  {
   "cell_type": "code",
   "execution_count": 15,
   "metadata": {},
   "outputs": [
    {
     "name": "stdout",
     "output_type": "stream",
     "text": [
      "[[0. 0. 0. ... 1. 0. 0.]\n",
      " [1. 0. 0. ... 0. 0. 0.]\n",
      " [0. 0. 0. ... 1. 0. 0.]\n",
      " ...\n",
      " [0. 0. 1. ... 0. 0. 0.]\n",
      " [0. 0. 0. ... 0. 0. 1.]\n",
      " [0. 0. 0. ... 1. 0. 0.]]\n",
      "(8012, 7)\n"
     ]
    }
   ],
   "source": [
    "print(y_train)\n",
    "print(y_train.shape)"
   ]
  },
  {
   "cell_type": "code",
   "execution_count": 16,
   "metadata": {},
   "outputs": [],
   "source": [
    "datagen = ImageDataGenerator(\n",
    "        featurewise_center=False,  # set input mean to 0 over the dataset\n",
    "        samplewise_center=False,  # set each sample mean to 0\n",
    "        featurewise_std_normalization=False,  # divide inputs by std of the dataset\n",
    "        samplewise_std_normalization=False,  # divide each input by its std\n",
    "        zca_whitening=False,  # apply ZCA whitening\n",
    "        rotation_range=10,  # randomly rotate images in the range (degrees, 0 to 180)\n",
    "        zoom_range = 0.1, # Randomly zoom image \n",
    "        width_shift_range=0.1,  # randomly shift images horizontally (fraction of total width)\n",
    "        height_shift_range=0.1,  # randomly shift images vertically (fraction of total height)\n",
    "        horizontal_flip=False,  # randomly flip images\n",
    "        vertical_flip=False)  # randomly flip images"
   ]
  },
  {
   "cell_type": "code",
   "execution_count": 17,
   "metadata": {},
   "outputs": [],
   "source": [
    "learning_rate_reduction = ReduceLROnPlateau(monitor='val_accuracy'\n",
    "                                            , patience = 2\n",
    "                                            , verbose=1\n",
    "                                            , factor=0.5\n",
    "                                            , min_lr=0.00001)"
   ]
  },
  {
   "cell_type": "code",
   "execution_count": 18,
   "metadata": {},
   "outputs": [],
   "source": [
    "def Skin_Lesion_Model():\n",
    "  input_ = keras.layers.Input(shape = [28,28,3])\n",
    "  x = keras.layers.Conv2D(32 , (3,3) , activation='relu',padding='same' , kernel_initializer='he_normal')(input_)\n",
    "  x = keras.layers.MaxPooling2D()(x)\n",
    "\n",
    "  x = keras.layers.BatchNormalization()(x)\n",
    "  x = keras.layers.Conv2D(64 , (3,3) , activation='relu',padding='same' , kernel_initializer='he_normal')(x)\n",
    "  x = keras.layers.Conv2D(64 , (3,3) , activation='relu',padding='same' , kernel_initializer='he_normal')(x)\n",
    "  x = keras.layers.MaxPooling2D()(x)\n",
    "\n",
    "  x = keras.layers.BatchNormalization()(x)\n",
    "  x = keras.layers.Conv2D(128 , (3,3) , activation='relu',padding='same' , kernel_initializer='he_normal')(x)\n",
    "  x = keras.layers.Conv2D(128 , (3,3) , activation='relu',padding='same' , kernel_initializer='he_normal')(x)\n",
    "  x = keras.layers.MaxPooling2D()(x)\n",
    "\n",
    "  x = keras.layers.BatchNormalization()(x)\n",
    "  x = keras.layers.Conv2D(256 , (3,3) , activation='relu' ,padding='same', kernel_initializer='he_normal')(x)\n",
    "  x = keras.layers.Conv2D(256 , (3,3) , activation='relu' ,padding='same', kernel_initializer='he_normal')(x)\n",
    "  x = keras.layers.MaxPooling2D()(x)\n",
    "\n",
    "  flatten  = keras.layers.Flatten()(x)\n",
    "  classifier = keras.layers.Dropout(rate = 0.2)(flatten)\n",
    "\n",
    "  classifier = keras.layers.Dense(units = 256 , activation = 'relu' , kernel_initializer = 'he_normal')(classifier)\n",
    "  classifier = keras.layers.BatchNormalization()(classifier)\n",
    "\n",
    "  classifier = keras.layers.Dense(units = 128 , activation = 'relu' , kernel_initializer = 'he_normal')(classifier)\n",
    "  classifier = keras.layers.BatchNormalization()(classifier)\n",
    "\n",
    "  classifier = keras.layers.Dense(units = 64 , activation = 'relu' , kernel_initializer = 'he_normal')(classifier)\n",
    "  classifier = keras.layers.BatchNormalization()(classifier) \n",
    "\n",
    "  classifier = keras.layers.Dense(units = 32 , activation = 'relu' , kernel_initializer = 'he_normal' , kernel_regularizer=keras.regularizers.L1L2())(classifier)\n",
    "  classifier = keras.layers.BatchNormalization()(classifier) \n",
    "\n",
    "  classifier = keras.layers.Dense(units = 7 , activation='softmax' ,kernel_initializer=\"glorot_uniform\" , name = 'classifier')(classifier)\n",
    "\n",
    "  return keras.models.Model(inputs = input_  ,outputs =  classifier  )"
   ]
  },
  {
   "cell_type": "code",
   "execution_count": 19,
   "metadata": {},
   "outputs": [],
   "source": [
    "model = Skin_Lesion_Model()"
   ]
  },
  {
   "cell_type": "code",
   "execution_count": 20,
   "metadata": {},
   "outputs": [
    {
     "name": "stdout",
     "output_type": "stream",
     "text": [
      "Model: \"model\"\n",
      "_________________________________________________________________\n",
      "Layer (type)                 Output Shape              Param #   \n",
      "=================================================================\n",
      "input_1 (InputLayer)         [(None, 28, 28, 3)]       0         \n",
      "_________________________________________________________________\n",
      "conv2d (Conv2D)              (None, 28, 28, 32)        896       \n",
      "_________________________________________________________________\n",
      "max_pooling2d (MaxPooling2D) (None, 14, 14, 32)        0         \n",
      "_________________________________________________________________\n",
      "batch_normalization (BatchNo (None, 14, 14, 32)        128       \n",
      "_________________________________________________________________\n",
      "conv2d_1 (Conv2D)            (None, 14, 14, 64)        18496     \n",
      "_________________________________________________________________\n",
      "conv2d_2 (Conv2D)            (None, 14, 14, 64)        36928     \n",
      "_________________________________________________________________\n",
      "max_pooling2d_1 (MaxPooling2 (None, 7, 7, 64)          0         \n",
      "_________________________________________________________________\n",
      "batch_normalization_1 (Batch (None, 7, 7, 64)          256       \n",
      "_________________________________________________________________\n",
      "conv2d_3 (Conv2D)            (None, 7, 7, 128)         73856     \n",
      "_________________________________________________________________\n",
      "conv2d_4 (Conv2D)            (None, 7, 7, 128)         147584    \n",
      "_________________________________________________________________\n",
      "max_pooling2d_2 (MaxPooling2 (None, 3, 3, 128)         0         \n",
      "_________________________________________________________________\n",
      "batch_normalization_2 (Batch (None, 3, 3, 128)         512       \n",
      "_________________________________________________________________\n",
      "conv2d_5 (Conv2D)            (None, 3, 3, 256)         295168    \n",
      "_________________________________________________________________\n",
      "conv2d_6 (Conv2D)            (None, 3, 3, 256)         590080    \n",
      "_________________________________________________________________\n",
      "max_pooling2d_3 (MaxPooling2 (None, 1, 1, 256)         0         \n",
      "_________________________________________________________________\n",
      "flatten (Flatten)            (None, 256)               0         \n",
      "_________________________________________________________________\n",
      "dropout (Dropout)            (None, 256)               0         \n",
      "_________________________________________________________________\n",
      "dense (Dense)                (None, 256)               65792     \n",
      "_________________________________________________________________\n",
      "batch_normalization_3 (Batch (None, 256)               1024      \n",
      "_________________________________________________________________\n",
      "dense_1 (Dense)              (None, 128)               32896     \n",
      "_________________________________________________________________\n",
      "batch_normalization_4 (Batch (None, 128)               512       \n",
      "_________________________________________________________________\n",
      "dense_2 (Dense)              (None, 64)                8256      \n",
      "_________________________________________________________________\n",
      "batch_normalization_5 (Batch (None, 64)                256       \n",
      "_________________________________________________________________\n",
      "dense_3 (Dense)              (None, 32)                2080      \n",
      "_________________________________________________________________\n",
      "batch_normalization_6 (Batch (None, 32)                128       \n",
      "_________________________________________________________________\n",
      "classifier (Dense)           (None, 7)                 231       \n",
      "=================================================================\n",
      "Total params: 1,275,079\n",
      "Trainable params: 1,273,671\n",
      "Non-trainable params: 1,408\n",
      "_________________________________________________________________\n"
     ]
    }
   ],
   "source": [
    "model.summary()"
   ]
  },
  {
   "cell_type": "code",
   "execution_count": 21,
   "metadata": {},
   "outputs": [],
   "source": [
    "model.compile(optimizer='Adam', loss = keras.losses.CategoricalCrossentropy() ,metrics = ['accuracy'])"
   ]
  },
  {
   "cell_type": "code",
   "execution_count": 22,
   "metadata": {},
   "outputs": [
    {
     "name": "stdout",
     "output_type": "stream",
     "text": [
      "WARNING:tensorflow:`input_shape` is undefined or non-square, or `rows` is not in [128, 160, 192, 224]. Weights for input shape (224, 224) will be loaded as the default.\n",
      "Downloading data from https://storage.googleapis.com/tensorflow/keras-applications/mobilenet/mobilenet_1_0_224_tf_no_top.h5\n",
      "17227776/17225924 [==============================] - 5s 0us/step\n",
      "17235968/17225924 [==============================] - 5s 0us/step\n",
      "Epoch 1/30\n",
      "63/63 [==============================] - 31s 468ms/step - loss: 1.5904 - accuracy: 0.5152 - val_loss: 2.7812 - val_accuracy: 0.1918\n",
      "Epoch 2/30\n",
      "63/63 [==============================] - 33s 517ms/step - loss: 1.0470 - accuracy: 0.7046 - val_loss: 1.3335 - val_accuracy: 0.6374\n",
      "Epoch 3/30\n",
      "63/63 [==============================] - 31s 488ms/step - loss: 0.8679 - accuracy: 0.7313 - val_loss: 1.5093 - val_accuracy: 0.6693\n",
      "Epoch 4/30\n",
      "63/63 [==============================] - 31s 492ms/step - loss: 0.7772 - accuracy: 0.7458 - val_loss: 0.8332 - val_accuracy: 0.7343\n",
      "Epoch 5/30\n",
      "63/63 [==============================] - 33s 522ms/step - loss: 0.7158 - accuracy: 0.7614 - val_loss: 0.9131 - val_accuracy: 0.7313\n",
      "Epoch 6/30\n",
      "63/63 [==============================] - 32s 501ms/step - loss: 0.6564 - accuracy: 0.7721 - val_loss: 0.7353 - val_accuracy: 0.7433\n",
      "Epoch 7/30\n",
      "63/63 [==============================] - 32s 502ms/step - loss: 0.6383 - accuracy: 0.7815 - val_loss: 0.8133 - val_accuracy: 0.7273\n",
      "Epoch 8/30\n",
      "63/63 [==============================] - 33s 518ms/step - loss: 0.6179 - accuracy: 0.7838 - val_loss: 1.8381 - val_accuracy: 0.5964\n",
      "\n",
      "Epoch 00008: ReduceLROnPlateau reducing learning rate to 0.0005000000237487257.\n",
      "Epoch 9/30\n",
      "63/63 [==============================] - 29s 456ms/step - loss: 0.5207 - accuracy: 0.8213 - val_loss: 0.8544 - val_accuracy: 0.7303\n",
      "Epoch 10/30\n",
      "63/63 [==============================] - 31s 491ms/step - loss: 0.4415 - accuracy: 0.8507 - val_loss: 0.8882 - val_accuracy: 0.7153\n",
      "\n",
      "Epoch 00010: ReduceLROnPlateau reducing learning rate to 0.0002500000118743628.\n",
      "Epoch 11/30\n",
      "63/63 [==============================] - 30s 482ms/step - loss: 0.3589 - accuracy: 0.8837 - val_loss: 1.3962 - val_accuracy: 0.5854\n",
      "Epoch 12/30\n",
      "63/63 [==============================] - 31s 483ms/step - loss: 0.2834 - accuracy: 0.9099 - val_loss: 0.8943 - val_accuracy: 0.7133\n",
      "\n",
      "Epoch 00012: ReduceLROnPlateau reducing learning rate to 0.0001250000059371814.\n",
      "Epoch 13/30\n",
      "63/63 [==============================] - 28s 449ms/step - loss: 0.2227 - accuracy: 0.9360 - val_loss: 0.8313 - val_accuracy: 0.7453\n",
      "Epoch 14/30\n",
      "63/63 [==============================] - 26s 419ms/step - loss: 0.1851 - accuracy: 0.9485 - val_loss: 0.8309 - val_accuracy: 0.7542\n",
      "Epoch 15/30\n",
      "63/63 [==============================] - 29s 464ms/step - loss: 0.1473 - accuracy: 0.9616 - val_loss: 0.8561 - val_accuracy: 0.7542\n",
      "Epoch 16/30\n",
      "63/63 [==============================] - 30s 481ms/step - loss: 0.1281 - accuracy: 0.9661 - val_loss: 0.8953 - val_accuracy: 0.7592\n",
      "Epoch 17/30\n",
      "63/63 [==============================] - 30s 485ms/step - loss: 0.1099 - accuracy: 0.9739 - val_loss: 0.9977 - val_accuracy: 0.7443\n",
      "Epoch 18/30\n",
      "63/63 [==============================] - 28s 438ms/step - loss: 0.0940 - accuracy: 0.9802 - val_loss: 0.9032 - val_accuracy: 0.7592\n",
      "\n",
      "Epoch 00018: ReduceLROnPlateau reducing learning rate to 6.25000029685907e-05.\n",
      "Epoch 19/30\n",
      "63/63 [==============================] - 29s 465ms/step - loss: 0.0825 - accuracy: 0.9798 - val_loss: 0.8663 - val_accuracy: 0.7732\n",
      "Epoch 20/30\n",
      "63/63 [==============================] - 30s 481ms/step - loss: 0.0653 - accuracy: 0.9878 - val_loss: 0.9190 - val_accuracy: 0.7602\n",
      "Epoch 21/30\n",
      "63/63 [==============================] - 31s 492ms/step - loss: 0.0580 - accuracy: 0.9885 - val_loss: 0.9232 - val_accuracy: 0.7682\n",
      "\n",
      "Epoch 00021: ReduceLROnPlateau reducing learning rate to 3.125000148429535e-05.\n",
      "Epoch 22/30\n",
      "63/63 [==============================] - 26s 411ms/step - loss: 0.0496 - accuracy: 0.9908 - val_loss: 0.9401 - val_accuracy: 0.7652\n",
      "Epoch 23/30\n",
      "63/63 [==============================] - 35s 552ms/step - loss: 0.0460 - accuracy: 0.9918 - val_loss: 0.9561 - val_accuracy: 0.7632\n",
      "\n",
      "Epoch 00023: ReduceLROnPlateau reducing learning rate to 1.5625000742147677e-05.\n",
      "Epoch 24/30\n",
      "63/63 [==============================] - 32s 498ms/step - loss: 0.0463 - accuracy: 0.9910 - val_loss: 0.9581 - val_accuracy: 0.7602\n",
      "Epoch 25/30\n",
      "63/63 [==============================] - 27s 433ms/step - loss: 0.0430 - accuracy: 0.9925 - val_loss: 0.9560 - val_accuracy: 0.7662\n",
      "\n",
      "Epoch 00025: ReduceLROnPlateau reducing learning rate to 1e-05.\n",
      "Epoch 26/30\n",
      "63/63 [==============================] - 30s 478ms/step - loss: 0.0405 - accuracy: 0.9941 - val_loss: 0.9615 - val_accuracy: 0.7622\n",
      "Epoch 27/30\n",
      "63/63 [==============================] - 28s 438ms/step - loss: 0.0423 - accuracy: 0.9934 - val_loss: 0.9666 - val_accuracy: 0.7592\n",
      "Epoch 28/30\n",
      "63/63 [==============================] - 27s 422ms/step - loss: 0.0416 - accuracy: 0.9935 - val_loss: 0.9629 - val_accuracy: 0.7632\n",
      "Epoch 29/30\n",
      "63/63 [==============================] - 23s 363ms/step - loss: 0.0399 - accuracy: 0.9933 - val_loss: 0.9580 - val_accuracy: 0.7672\n",
      "Epoch 30/30\n",
      "63/63 [==============================] - 27s 423ms/step - loss: 0.0403 - accuracy: 0.9934 - val_loss: 0.9691 - val_accuracy: 0.7622\n"
     ]
    }
   ],
   "source": [
    "base_model = MobileNet(weights=\"imagenet\", include_top=False , input_shape=(100, 150, 3))\n",
    "history = model.fit(X_train, y_train,\n",
    "                    epochs=30,\n",
    "                    batch_size=128,\n",
    "                    validation_data=(X_val, y_val),\n",
    "                    callbacks=[learning_rate_reduction])"
   ]
  },
  {
   "cell_type": "code",
   "execution_count": 23,
   "metadata": {},
   "outputs": [
    {
     "name": "stdout",
     "output_type": "stream",
     "text": [
      "32/32 [==============================] - 1s 20ms/step - loss: 1.0511 - accuracy: 0.7515\n"
     ]
    },
    {
     "data": {
      "text/plain": [
       "[1.0510854721069336, 0.7514970302581787]"
      ]
     },
     "execution_count": 23,
     "metadata": {},
     "output_type": "execute_result"
    }
   ],
   "source": [
    "model.evaluate(X_test, y_test)"
   ]
  },
  {
   "cell_type": "code",
   "execution_count": 24,
   "metadata": {},
   "outputs": [
    {
     "data": {
      "text/plain": [
       "(0.0, 1.0)"
      ]
     },
     "execution_count": 24,
     "metadata": {},
     "output_type": "execute_result"
    },
    {
     "data": {
      "image/png": "[encoded data removed]",
      "text/plain": [
       "<Figure size 1440x720 with 2 Axes>"
      ]
     },
     "metadata": {
      "needs_background": "light"
     },
     "output_type": "display_data"
    }
   ],
   "source": [
    "fig, (ax1, ax2) = plt.subplots(1, 2, figsize = (20, 10))\n",
    "\n",
    "ax1.plot(history.history[\"accuracy\"] , 'ro-' , label = \"Training Accuracy\")\n",
    "ax1.plot(history.history[\"val_accuracy\"] , 'go-' , label = \"Testing Accuracy\")\n",
    "ax1.legend()\n",
    "ax2.set_title('Loss')\n",
    "plt.plot(history.history[\"loss\"] , 'ro-' , label = \"Training Loss\")\n",
    "plt.plot(history.history[\"val_loss\"] , 'go-' , label = \"Testing Loss\")\n",
    "ax2.legend()\n",
    "ax1.set_title('Accuracy')\n",
    "ax2.set_ylim(0, 1)"
   ]
  },
  {
   "cell_type": "code",
   "execution_count": null,
   "metadata": {},
   "outputs": [],
   "source": []
  }
 ],
 "metadata": {
  "kernelspec": {
   "display_name": "Python 3",
   "language": "python",
   "name": "python3"
  },
  "language_info": {
   "codemirror_mode": {
    "name": "ipython",
    "version": 3
   },
   "file_extension": ".py",
   "mimetype": "text/x-python",
   "name": "python",
   "nbconvert_exporter": "python",
   "pygments_lexer": "ipython3",
   "version": "3.8.5"
  }
 },
 "nbformat": 4,
 "nbformat_minor": 4
}
